{
 "cells": [
  {
   "cell_type": "markdown",
   "metadata": {},
   "source": [
    "### Probabilities"
   ]
  },
  {
   "cell_type": "code",
   "execution_count": 1,
   "metadata": {},
   "outputs": [],
   "source": [
    "import pandas as pd\n",
    "import numpy as np\n",
    "\n",
    "df = pd.DataFrame({'male': [240, 200, 100], \n",
    "                   'female': [150, 50, 260]}, index=['cricket', 'football', 'others'])"
   ]
  },
  {
   "cell_type": "code",
   "execution_count": 2,
   "metadata": {},
   "outputs": [],
   "source": [
    "class probDF(object):\n",
    "    def __init__(self, df):\n",
    "        self.df = df.copy()\n",
    "        total_col = self.df.sum(axis=1)\n",
    "        total_row = self.df.sum(axis=0)\n",
    "        self.df.loc['total'] = total_row\n",
    "        self.df['total'] = total_col\n",
    "        self.df.loc['total', 'total'] = total_col.sum()\n",
    "        self.norm_df = self.df / self.df.loc['total', 'total']\n",
    "        \n",
    "    def marginal_prob(self, var, col=True):\n",
    "        if col:\n",
    "            print(f'marginal prob. for {var}')\n",
    "            return self.norm_df.loc['total', var]\n",
    "        else:\n",
    "            print(f'marginal prob. for {var}')\n",
    "            return self.norm_df.loc[var, 'total']\n",
    "        \n",
    "    def joint_prob(self, row, col):\n",
    "        print(f'joint prob for {row} and {col}')\n",
    "        return self.norm_df.loc[row, col]\n",
    "    \n",
    "    def conditional_prob(self, value, given, given_col=True):\n",
    "        print(f'conditional prob of {value} given {given}')\n",
    "        if given_col:\n",
    "            return self.norm_df.loc[value, given] / self.norm_df.loc['total', given]\n",
    "        else:\n",
    "            return self.norm_df.loc[given, value] / self.norm_df.loc[given, 'total']\n",
    "        \n",
    "    def show_df(self):\n",
    "        return self.df\n",
    "    \n",
    "    def show_norm_df(self):\n",
    "        return self.norm_df"
   ]
  },
  {
   "cell_type": "code",
   "execution_count": 3,
   "metadata": {},
   "outputs": [],
   "source": [
    "prob_df = probDF(df)"
   ]
  },
  {
   "cell_type": "code",
   "execution_count": 4,
   "metadata": {},
   "outputs": [
    {
     "data": {
      "text/html": [
       "<div>\n",
       "<style scoped>\n",
       "    .dataframe tbody tr th:only-of-type {\n",
       "        vertical-align: middle;\n",
       "    }\n",
       "\n",
       "    .dataframe tbody tr th {\n",
       "        vertical-align: top;\n",
       "    }\n",
       "\n",
       "    .dataframe thead th {\n",
       "        text-align: right;\n",
       "    }\n",
       "</style>\n",
       "<table border=\"1\" class=\"dataframe\">\n",
       "  <thead>\n",
       "    <tr style=\"text-align: right;\">\n",
       "      <th></th>\n",
       "      <th>male</th>\n",
       "      <th>female</th>\n",
       "      <th>total</th>\n",
       "    </tr>\n",
       "  </thead>\n",
       "  <tbody>\n",
       "    <tr>\n",
       "      <th>cricket</th>\n",
       "      <td>240</td>\n",
       "      <td>150</td>\n",
       "      <td>390.0</td>\n",
       "    </tr>\n",
       "    <tr>\n",
       "      <th>football</th>\n",
       "      <td>200</td>\n",
       "      <td>50</td>\n",
       "      <td>250.0</td>\n",
       "    </tr>\n",
       "    <tr>\n",
       "      <th>others</th>\n",
       "      <td>100</td>\n",
       "      <td>260</td>\n",
       "      <td>360.0</td>\n",
       "    </tr>\n",
       "    <tr>\n",
       "      <th>total</th>\n",
       "      <td>540</td>\n",
       "      <td>460</td>\n",
       "      <td>1000.0</td>\n",
       "    </tr>\n",
       "  </tbody>\n",
       "</table>\n",
       "</div>"
      ],
      "text/plain": [
       "          male  female   total\n",
       "cricket    240     150   390.0\n",
       "football   200      50   250.0\n",
       "others     100     260   360.0\n",
       "total      540     460  1000.0"
      ]
     },
     "execution_count": 4,
     "metadata": {},
     "output_type": "execute_result"
    }
   ],
   "source": [
    "prob_df.show_df()"
   ]
  },
  {
   "cell_type": "code",
   "execution_count": 5,
   "metadata": {},
   "outputs": [
    {
     "data": {
      "text/html": [
       "<div>\n",
       "<style scoped>\n",
       "    .dataframe tbody tr th:only-of-type {\n",
       "        vertical-align: middle;\n",
       "    }\n",
       "\n",
       "    .dataframe tbody tr th {\n",
       "        vertical-align: top;\n",
       "    }\n",
       "\n",
       "    .dataframe thead th {\n",
       "        text-align: right;\n",
       "    }\n",
       "</style>\n",
       "<table border=\"1\" class=\"dataframe\">\n",
       "  <thead>\n",
       "    <tr style=\"text-align: right;\">\n",
       "      <th></th>\n",
       "      <th>male</th>\n",
       "      <th>female</th>\n",
       "      <th>total</th>\n",
       "    </tr>\n",
       "  </thead>\n",
       "  <tbody>\n",
       "    <tr>\n",
       "      <th>cricket</th>\n",
       "      <td>0.24</td>\n",
       "      <td>0.15</td>\n",
       "      <td>0.39</td>\n",
       "    </tr>\n",
       "    <tr>\n",
       "      <th>football</th>\n",
       "      <td>0.20</td>\n",
       "      <td>0.05</td>\n",
       "      <td>0.25</td>\n",
       "    </tr>\n",
       "    <tr>\n",
       "      <th>others</th>\n",
       "      <td>0.10</td>\n",
       "      <td>0.26</td>\n",
       "      <td>0.36</td>\n",
       "    </tr>\n",
       "    <tr>\n",
       "      <th>total</th>\n",
       "      <td>0.54</td>\n",
       "      <td>0.46</td>\n",
       "      <td>1.00</td>\n",
       "    </tr>\n",
       "  </tbody>\n",
       "</table>\n",
       "</div>"
      ],
      "text/plain": [
       "          male  female  total\n",
       "cricket   0.24    0.15   0.39\n",
       "football  0.20    0.05   0.25\n",
       "others    0.10    0.26   0.36\n",
       "total     0.54    0.46   1.00"
      ]
     },
     "execution_count": 5,
     "metadata": {},
     "output_type": "execute_result"
    }
   ],
   "source": [
    "prob_df.show_norm_df()"
   ]
  },
  {
   "cell_type": "code",
   "execution_count": 6,
   "metadata": {},
   "outputs": [
    {
     "name": "stdout",
     "output_type": "stream",
     "text": [
      "joint prob for cricket and female\n"
     ]
    },
    {
     "data": {
      "text/plain": [
       "0.15"
      ]
     },
     "execution_count": 6,
     "metadata": {},
     "output_type": "execute_result"
    }
   ],
   "source": [
    "prob_df.joint_prob('cricket', 'female')"
   ]
  },
  {
   "cell_type": "code",
   "execution_count": 7,
   "metadata": {},
   "outputs": [
    {
     "name": "stdout",
     "output_type": "stream",
     "text": [
      "joint prob for others and male\n"
     ]
    },
    {
     "data": {
      "text/plain": [
       "0.1"
      ]
     },
     "execution_count": 7,
     "metadata": {},
     "output_type": "execute_result"
    }
   ],
   "source": [
    "prob_df.joint_prob('others', 'male')"
   ]
  },
  {
   "cell_type": "code",
   "execution_count": 8,
   "metadata": {},
   "outputs": [
    {
     "name": "stdout",
     "output_type": "stream",
     "text": [
      "marginal prob. for male\n"
     ]
    },
    {
     "data": {
      "text/plain": [
       "0.54"
      ]
     },
     "execution_count": 8,
     "metadata": {},
     "output_type": "execute_result"
    }
   ],
   "source": [
    "prob_df.marginal_prob('male')"
   ]
  },
  {
   "cell_type": "code",
   "execution_count": 9,
   "metadata": {},
   "outputs": [
    {
     "name": "stdout",
     "output_type": "stream",
     "text": [
      "marginal prob. for cricket\n"
     ]
    },
    {
     "data": {
      "text/plain": [
       "0.39"
      ]
     },
     "execution_count": 9,
     "metadata": {},
     "output_type": "execute_result"
    }
   ],
   "source": [
    "prob_df.marginal_prob('cricket', False)"
   ]
  },
  {
   "cell_type": "code",
   "execution_count": 10,
   "metadata": {},
   "outputs": [
    {
     "name": "stdout",
     "output_type": "stream",
     "text": [
      "conditional prob of cricket given male\n"
     ]
    },
    {
     "data": {
      "text/plain": [
       "0.4444444444444444"
      ]
     },
     "execution_count": 10,
     "metadata": {},
     "output_type": "execute_result"
    }
   ],
   "source": [
    "prob_df.conditional_prob('cricket', 'male')"
   ]
  },
  {
   "cell_type": "code",
   "execution_count": 11,
   "metadata": {},
   "outputs": [
    {
     "name": "stdout",
     "output_type": "stream",
     "text": [
      "conditional prob of male given cricket\n"
     ]
    },
    {
     "data": {
      "text/plain": [
       "0.6153846153846153"
      ]
     },
     "execution_count": 11,
     "metadata": {},
     "output_type": "execute_result"
    }
   ],
   "source": [
    "prob_df.conditional_prob('male', 'cricket', False) #NOTE is not symmetrical!"
   ]
  },
  {
   "cell_type": "markdown",
   "metadata": {},
   "source": [
    "### Bayes"
   ]
  },
  {
   "cell_type": "code",
   "execution_count": 12,
   "metadata": {},
   "outputs": [],
   "source": [
    "prob_spam = 0.03\n",
    "detection_rate = 0.99   #find spam if there is spam\n",
    "false_positive = 0.002  #classify not spam as spam"
   ]
  },
  {
   "cell_type": "code",
   "execution_count": 13,
   "metadata": {},
   "outputs": [],
   "source": [
    "class bayesDF(object):\n",
    "    def __init__(self, columns, rows):\n",
    "        self.df = pd.DataFrame(np.zeros((len(rows), len(columns))), \n",
    "                                    columns=columns, index=rows)\n",
    "        self.rows = rows\n",
    "        self.cols = columns\n",
    "        self.bayes_df = None\n",
    "        self.flag = False\n",
    "        \n",
    "    def ret(self):\n",
    "        if not self.flag:\n",
    "            print('Need to populated dataframe first')\n",
    "        else:\n",
    "            return self.bayes_df\n",
    "    \n",
    "    def populate(self, positive_prob, detection_rate, fp_rate):\n",
    "        self.bayes_df = self.df.copy()\n",
    "        self.bayes_df.loc[self.rows[-1], self.cols[1]] = positive_prob\n",
    "        self.bayes_df.loc[self.rows[-1], self.cols[0]] = 1 - positive_prob\n",
    "\n",
    "        self.bayes_df.loc[self.rows[0], self.cols[1]] = positive_prob * detection_rate\n",
    "        self.bayes_df.loc[self.rows[1], self.cols[1]] = positive_prob - self.bayes_df.loc[self.rows[0], self.cols[1]]\n",
    "\n",
    "        self.bayes_df.loc[self.rows[0], self.cols[0]] = (1 - positive_prob) * fp_rate\n",
    "        self.bayes_df.loc[self.rows[1], self.cols[0]] = (1 - positive_prob) * (1 - fp_rate)\n",
    "\n",
    "        self.bayes_df.loc[:, self.cols[-1]] = self.bayes_df.sum(axis=1)\n",
    "        self.flag = True\n",
    "        \n",
    "    def bayes_rule(self, tl, pred):\n",
    "        print(f'P({tl}|{pred}) = P({pred}|{tl}) * P({tl}) / P({pred})')\n",
    "        return self.bayes_df.loc[pred, tl] / self.bayes_df.loc[pred, self.cols[-1]]"
   ]
  },
  {
   "cell_type": "code",
   "execution_count": 14,
   "metadata": {},
   "outputs": [
    {
     "name": "stdout",
     "output_type": "stream",
     "text": [
      "Need to populated dataframe first\n"
     ]
    }
   ],
   "source": [
    "columns= ['tl_not_spam', 'tl_spam', 'total'] #columns, ground truth    Order of negative and positive and total is important!\n",
    "rows = ['pred_spam', 'pred_not_spam', 'total'] #rows, predictions      follow the convention here\n",
    "#TL = True Label or ground truth\n",
    "\n",
    "bdf =  bayesDF(columns, rows)\n",
    "bdf.ret()"
   ]
  },
  {
   "cell_type": "code",
   "execution_count": 15,
   "metadata": {},
   "outputs": [
    {
     "data": {
      "text/html": [
       "<div>\n",
       "<style scoped>\n",
       "    .dataframe tbody tr th:only-of-type {\n",
       "        vertical-align: middle;\n",
       "    }\n",
       "\n",
       "    .dataframe tbody tr th {\n",
       "        vertical-align: top;\n",
       "    }\n",
       "\n",
       "    .dataframe thead th {\n",
       "        text-align: right;\n",
       "    }\n",
       "</style>\n",
       "<table border=\"1\" class=\"dataframe\">\n",
       "  <thead>\n",
       "    <tr style=\"text-align: right;\">\n",
       "      <th></th>\n",
       "      <th>tl_not_spam</th>\n",
       "      <th>tl_spam</th>\n",
       "      <th>total</th>\n",
       "    </tr>\n",
       "  </thead>\n",
       "  <tbody>\n",
       "    <tr>\n",
       "      <th>pred_spam</th>\n",
       "      <td>0.00194</td>\n",
       "      <td>0.0297</td>\n",
       "      <td>0.03164</td>\n",
       "    </tr>\n",
       "    <tr>\n",
       "      <th>pred_not_spam</th>\n",
       "      <td>0.96806</td>\n",
       "      <td>0.0003</td>\n",
       "      <td>0.96836</td>\n",
       "    </tr>\n",
       "    <tr>\n",
       "      <th>total</th>\n",
       "      <td>0.97000</td>\n",
       "      <td>0.0300</td>\n",
       "      <td>1.00000</td>\n",
       "    </tr>\n",
       "  </tbody>\n",
       "</table>\n",
       "</div>"
      ],
      "text/plain": [
       "               tl_not_spam  tl_spam    total\n",
       "pred_spam          0.00194   0.0297  0.03164\n",
       "pred_not_spam      0.96806   0.0003  0.96836\n",
       "total              0.97000   0.0300  1.00000"
      ]
     },
     "execution_count": 15,
     "metadata": {},
     "output_type": "execute_result"
    }
   ],
   "source": [
    "bdf.populate(prob_spam, detection_rate, false_positive)\n",
    "bdf.ret()"
   ]
  },
  {
   "cell_type": "code",
   "execution_count": 16,
   "metadata": {},
   "outputs": [
    {
     "name": "stdout",
     "output_type": "stream",
     "text": [
      "P(tl_spam|pred_spam) = P(pred_spam|tl_spam) * P(tl_spam) / P(pred_spam)\n"
     ]
    },
    {
     "data": {
      "text/plain": [
       "0.9386852085967131"
      ]
     },
     "execution_count": 16,
     "metadata": {},
     "output_type": "execute_result"
    }
   ],
   "source": [
    "bdf.bayes_rule('tl_spam', 'pred_spam')"
   ]
  },
  {
   "cell_type": "code",
   "execution_count": 17,
   "metadata": {},
   "outputs": [
    {
     "name": "stdout",
     "output_type": "stream",
     "text": [
      "P(tl_not_spam|pred_spam) = P(pred_spam|tl_not_spam) * P(tl_not_spam) / P(pred_spam)\n"
     ]
    },
    {
     "data": {
      "text/plain": [
       "0.06131479140328699"
      ]
     },
     "execution_count": 17,
     "metadata": {},
     "output_type": "execute_result"
    }
   ],
   "source": [
    "bdf.bayes_rule('tl_not_spam', 'pred_spam')"
   ]
  },
  {
   "cell_type": "code",
   "execution_count": 18,
   "metadata": {},
   "outputs": [
    {
     "name": "stdout",
     "output_type": "stream",
     "text": [
      "P(tl_spam|pred_not_spam) = P(pred_not_spam|tl_spam) * P(tl_spam) / P(pred_not_spam)\n"
     ]
    },
    {
     "data": {
      "text/plain": [
       "0.00030980213970011327"
      ]
     },
     "execution_count": 18,
     "metadata": {},
     "output_type": "execute_result"
    }
   ],
   "source": [
    "bdf.bayes_rule('tl_spam', 'pred_not_spam')"
   ]
  },
  {
   "cell_type": "code",
   "execution_count": 19,
   "metadata": {},
   "outputs": [
    {
     "name": "stdout",
     "output_type": "stream",
     "text": [
      "P(tl_not_spam|pred_not_spam) = P(pred_not_spam|tl_not_spam) * P(tl_not_spam) / P(pred_not_spam)\n"
     ]
    },
    {
     "data": {
      "text/plain": [
       "0.9996901978602999"
      ]
     },
     "execution_count": 19,
     "metadata": {},
     "output_type": "execute_result"
    }
   ],
   "source": [
    "bdf.bayes_rule('tl_not_spam', 'pred_not_spam')"
   ]
  },
  {
   "cell_type": "code",
   "execution_count": 20,
   "metadata": {},
   "outputs": [],
   "source": [
    "bdf.populate(0.4, detection_rate, false_positive)"
   ]
  },
  {
   "cell_type": "code",
   "execution_count": 21,
   "metadata": {},
   "outputs": [
    {
     "data": {
      "text/html": [
       "<div>\n",
       "<style scoped>\n",
       "    .dataframe tbody tr th:only-of-type {\n",
       "        vertical-align: middle;\n",
       "    }\n",
       "\n",
       "    .dataframe tbody tr th {\n",
       "        vertical-align: top;\n",
       "    }\n",
       "\n",
       "    .dataframe thead th {\n",
       "        text-align: right;\n",
       "    }\n",
       "</style>\n",
       "<table border=\"1\" class=\"dataframe\">\n",
       "  <thead>\n",
       "    <tr style=\"text-align: right;\">\n",
       "      <th></th>\n",
       "      <th>tl_not_spam</th>\n",
       "      <th>tl_spam</th>\n",
       "      <th>total</th>\n",
       "    </tr>\n",
       "  </thead>\n",
       "  <tbody>\n",
       "    <tr>\n",
       "      <th>pred_spam</th>\n",
       "      <td>0.0012</td>\n",
       "      <td>0.396</td>\n",
       "      <td>0.3972</td>\n",
       "    </tr>\n",
       "    <tr>\n",
       "      <th>pred_not_spam</th>\n",
       "      <td>0.5988</td>\n",
       "      <td>0.004</td>\n",
       "      <td>0.6028</td>\n",
       "    </tr>\n",
       "    <tr>\n",
       "      <th>total</th>\n",
       "      <td>0.6000</td>\n",
       "      <td>0.400</td>\n",
       "      <td>1.0000</td>\n",
       "    </tr>\n",
       "  </tbody>\n",
       "</table>\n",
       "</div>"
      ],
      "text/plain": [
       "               tl_not_spam  tl_spam   total\n",
       "pred_spam           0.0012    0.396  0.3972\n",
       "pred_not_spam       0.5988    0.004  0.6028\n",
       "total               0.6000    0.400  1.0000"
      ]
     },
     "execution_count": 21,
     "metadata": {},
     "output_type": "execute_result"
    }
   ],
   "source": [
    "bdf.ret()"
   ]
  },
  {
   "cell_type": "code",
   "execution_count": 22,
   "metadata": {},
   "outputs": [
    {
     "name": "stdout",
     "output_type": "stream",
     "text": [
      "P(tl_spam|pred_spam) = P(pred_spam|tl_spam) * P(tl_spam) / P(pred_spam)\n"
     ]
    },
    {
     "data": {
      "text/plain": [
       "0.9969788519637462"
      ]
     },
     "execution_count": 22,
     "metadata": {},
     "output_type": "execute_result"
    }
   ],
   "source": [
    "bdf.bayes_rule('tl_spam', 'pred_spam')"
   ]
  },
  {
   "cell_type": "code",
   "execution_count": 23,
   "metadata": {},
   "outputs": [
    {
     "name": "stdout",
     "output_type": "stream",
     "text": [
      "P(tl_not_spam|pred_spam) = P(pred_spam|tl_not_spam) * P(tl_not_spam) / P(pred_spam)\n"
     ]
    },
    {
     "data": {
      "text/plain": [
       "0.003021148036253776"
      ]
     },
     "execution_count": 23,
     "metadata": {},
     "output_type": "execute_result"
    }
   ],
   "source": [
    "bdf.bayes_rule('tl_not_spam', 'pred_spam')"
   ]
  },
  {
   "cell_type": "code",
   "execution_count": 24,
   "metadata": {},
   "outputs": [
    {
     "name": "stdout",
     "output_type": "stream",
     "text": [
      "P(tl_spam|pred_not_spam) = P(pred_not_spam|tl_spam) * P(tl_spam) / P(pred_not_spam)\n"
     ]
    },
    {
     "data": {
      "text/plain": [
       "0.006635700066357006"
      ]
     },
     "execution_count": 24,
     "metadata": {},
     "output_type": "execute_result"
    }
   ],
   "source": [
    "bdf.bayes_rule('tl_spam', 'pred_not_spam')"
   ]
  },
  {
   "cell_type": "code",
   "execution_count": 25,
   "metadata": {},
   "outputs": [
    {
     "name": "stdout",
     "output_type": "stream",
     "text": [
      "P(tl_not_spam|pred_not_spam) = P(pred_not_spam|tl_not_spam) * P(tl_not_spam) / P(pred_not_spam)\n"
     ]
    },
    {
     "data": {
      "text/plain": [
       "0.993364299933643"
      ]
     },
     "execution_count": 25,
     "metadata": {},
     "output_type": "execute_result"
    }
   ],
   "source": [
    "bdf.bayes_rule('tl_not_spam', 'pred_not_spam')"
   ]
  },
  {
   "cell_type": "code",
   "execution_count": 26,
   "metadata": {},
   "outputs": [],
   "source": [
    "bdf.populate(0.4, detection_rate, false_positive)"
   ]
  }
 ],
 "metadata": {
  "kernelspec": {
   "display_name": "Python 3",
   "language": "python",
   "name": "python3"
  },
  "language_info": {
   "codemirror_mode": {
    "name": "ipython",
    "version": 3
   },
   "file_extension": ".py",
   "mimetype": "text/x-python",
   "name": "python",
   "nbconvert_exporter": "python",
   "pygments_lexer": "ipython3",
   "version": "3.8.5"
  }
 },
 "nbformat": 4,
 "nbformat_minor": 4
}
