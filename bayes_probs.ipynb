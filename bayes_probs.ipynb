{
 "cells": [
  {
   "cell_type": "markdown",
   "metadata": {},
   "source": [
    "# Probabilities"
   ]
  },
  {
   "cell_type": "markdown",
   "metadata": {},
   "source": [
    "- **What are mutually exclusive events?**\n",
    "    - These are events that if one happens, the other cannot happen and viceversa.\n",
    "    - Example: In a single dice throw, you cannot get 1 and 5 at the same time, one outcome prevents the other from happening."
   ]
  },
  {
   "cell_type": "markdown",
   "metadata": {},
   "source": [
    "![](venn.png)"
   ]
  },
  {
   "cell_type": "markdown",
   "metadata": {},
   "source": [
    "- **What are independent events?**\n",
    "    - These are events that do not affect each other, they are independent.\n",
    "    - Example: If you throw two coins, the outcome of one (say head or tails) does not affect the other (head or tails)."
   ]
  },
  {
   "cell_type": "markdown",
   "metadata": {},
   "source": [
    "- P(A and B) = P(A ∩ B) = Intersection\n",
    "- P(A or B) = P(A ∪ B) = P(A) + P(B) - P(A ∩ B) = Union"
   ]
  },
  {
   "cell_type": "markdown",
   "metadata": {},
   "source": [
    "### Joint, Conditional and Marginal Probability"
   ]
  },
  {
   "cell_type": "markdown",
   "metadata": {},
   "source": [
    "![](join.png)"
   ]
  },
  {
   "cell_type": "code",
   "execution_count": 4,
   "metadata": {},
   "outputs": [],
   "source": [
    "import pandas as pd\n",
    "import numpy as np\n",
    "\n",
    "df = pd.DataFrame({'male': [240, 200, 100], \n",
    "                   'female': [150, 50, 260]}, \n",
    "                  index=['cricket', 'football', 'others'])"
   ]
  },
  {
   "cell_type": "code",
   "execution_count": 5,
   "metadata": {},
   "outputs": [
    {
     "data": {
      "text/html": [
       "<div>\n",
       "<style scoped>\n",
       "    .dataframe tbody tr th:only-of-type {\n",
       "        vertical-align: middle;\n",
       "    }\n",
       "\n",
       "    .dataframe tbody tr th {\n",
       "        vertical-align: top;\n",
       "    }\n",
       "\n",
       "    .dataframe thead th {\n",
       "        text-align: right;\n",
       "    }\n",
       "</style>\n",
       "<table border=\"1\" class=\"dataframe\">\n",
       "  <thead>\n",
       "    <tr style=\"text-align: right;\">\n",
       "      <th></th>\n",
       "      <th>male</th>\n",
       "      <th>female</th>\n",
       "    </tr>\n",
       "  </thead>\n",
       "  <tbody>\n",
       "    <tr>\n",
       "      <th>cricket</th>\n",
       "      <td>240</td>\n",
       "      <td>150</td>\n",
       "    </tr>\n",
       "    <tr>\n",
       "      <th>football</th>\n",
       "      <td>200</td>\n",
       "      <td>50</td>\n",
       "    </tr>\n",
       "    <tr>\n",
       "      <th>others</th>\n",
       "      <td>100</td>\n",
       "      <td>260</td>\n",
       "    </tr>\n",
       "  </tbody>\n",
       "</table>\n",
       "</div>"
      ],
      "text/plain": [
       "          male  female\n",
       "cricket    240     150\n",
       "football   200      50\n",
       "others     100     260"
      ]
     },
     "execution_count": 5,
     "metadata": {},
     "output_type": "execute_result"
    }
   ],
   "source": [
    "df"
   ]
  },
  {
   "cell_type": "code",
   "execution_count": 13,
   "metadata": {},
   "outputs": [],
   "source": [
    "#Create a class that will extract all relevant probability information\n",
    "#from the original dataset, Joint, Marginal and Conditional Probs\n",
    "\n",
    "class probDF(object):\n",
    "    def __init__(self, df):\n",
    "        \"\"\"\n",
    "        Initialize class with dataset, calculate row and column\n",
    "        totals, then normalize everything dividing by the total\n",
    "        of totals.\n",
    "        \"\"\"\n",
    "        self.df = df.copy()\n",
    "        total_col = self.df.sum(axis=1)\n",
    "        total_row = self.df.sum(axis=0)\n",
    "        self.df.loc['total'] = total_row\n",
    "        self.df['total'] = total_col\n",
    "        self.df.loc['total', 'total'] = total_col.sum()\n",
    "        self.norm_df = self.df / self.df.loc['total', 'total']\n",
    "        \n",
    "    def marginal_prob(self, var, col=True):\n",
    "        \"\"\"\n",
    "        Calculate marginal probability, that is the probability\n",
    "        of and event happening irrespective of any other variable\n",
    "        P(Male) does not care if they prefer cricket, football or \n",
    "        other as long as they are male.\n",
    "        \"\"\"\n",
    "        if col:\n",
    "            print(f'marginal prob. for {var}')\n",
    "            return self.norm_df.loc['total', var]\n",
    "        else:\n",
    "            print(f'marginal prob. for {var}')\n",
    "            return self.norm_df.loc[var, 'total']\n",
    "        \n",
    "    def joint_prob(self, row, col):\n",
    "        \"\"\"\n",
    "        Joint probability is the probability of 2 events happening\n",
    "        at the same time, P(Female and Cricket).\n",
    "        \"\"\"\n",
    "        print(f'joint prob for {row} and {col}')\n",
    "        return self.norm_df.loc[row, col]\n",
    "    \n",
    "    def conditional_prob(self, value, given, given_col=True):\n",
    "        \"\"\"\n",
    "        Conditional probability is the probability that event occurs given\n",
    "        that another event has happened. That is we have prior information\n",
    "        to consider to calculate the probability.\n",
    "        P(Cricket | Male) is the probability that the selected male likes\n",
    "        cricket, so we dismiss the female part of the dataset.\n",
    "        \"\"\"\n",
    "        print(f'conditional prob of {value} given {given}')\n",
    "        if given_col:\n",
    "            return self.norm_df.loc[value, given] / self.norm_df.loc['total', given]\n",
    "        else:\n",
    "            return self.norm_df.loc[given, value] / self.norm_df.loc[given, 'total']\n",
    "        \n",
    "    def show_df(self):\n",
    "        return self.df\n",
    "    \n",
    "    def show_norm_df(self):\n",
    "        return self.norm_df"
   ]
  },
  {
   "cell_type": "code",
   "execution_count": 8,
   "metadata": {},
   "outputs": [],
   "source": [
    "prob_df = probDF(df)"
   ]
  },
  {
   "cell_type": "markdown",
   "metadata": {},
   "source": [
    "Show the dataset with the totals."
   ]
  },
  {
   "cell_type": "code",
   "execution_count": 9,
   "metadata": {
    "scrolled": true
   },
   "outputs": [
    {
     "data": {
      "text/html": [
       "<div>\n",
       "<style scoped>\n",
       "    .dataframe tbody tr th:only-of-type {\n",
       "        vertical-align: middle;\n",
       "    }\n",
       "\n",
       "    .dataframe tbody tr th {\n",
       "        vertical-align: top;\n",
       "    }\n",
       "\n",
       "    .dataframe thead th {\n",
       "        text-align: right;\n",
       "    }\n",
       "</style>\n",
       "<table border=\"1\" class=\"dataframe\">\n",
       "  <thead>\n",
       "    <tr style=\"text-align: right;\">\n",
       "      <th></th>\n",
       "      <th>male</th>\n",
       "      <th>female</th>\n",
       "      <th>total</th>\n",
       "    </tr>\n",
       "  </thead>\n",
       "  <tbody>\n",
       "    <tr>\n",
       "      <th>cricket</th>\n",
       "      <td>240</td>\n",
       "      <td>150</td>\n",
       "      <td>390.0</td>\n",
       "    </tr>\n",
       "    <tr>\n",
       "      <th>football</th>\n",
       "      <td>200</td>\n",
       "      <td>50</td>\n",
       "      <td>250.0</td>\n",
       "    </tr>\n",
       "    <tr>\n",
       "      <th>others</th>\n",
       "      <td>100</td>\n",
       "      <td>260</td>\n",
       "      <td>360.0</td>\n",
       "    </tr>\n",
       "    <tr>\n",
       "      <th>total</th>\n",
       "      <td>540</td>\n",
       "      <td>460</td>\n",
       "      <td>1000.0</td>\n",
       "    </tr>\n",
       "  </tbody>\n",
       "</table>\n",
       "</div>"
      ],
      "text/plain": [
       "          male  female   total\n",
       "cricket    240     150   390.0\n",
       "football   200      50   250.0\n",
       "others     100     260   360.0\n",
       "total      540     460  1000.0"
      ]
     },
     "execution_count": 9,
     "metadata": {},
     "output_type": "execute_result"
    }
   ],
   "source": [
    "prob_df.show_df()"
   ]
  },
  {
   "cell_type": "markdown",
   "metadata": {},
   "source": [
    "Normalize the dataset, that is, divide over the total amount of people in it."
   ]
  },
  {
   "cell_type": "code",
   "execution_count": 10,
   "metadata": {
    "scrolled": true
   },
   "outputs": [
    {
     "data": {
      "text/html": [
       "<div>\n",
       "<style scoped>\n",
       "    .dataframe tbody tr th:only-of-type {\n",
       "        vertical-align: middle;\n",
       "    }\n",
       "\n",
       "    .dataframe tbody tr th {\n",
       "        vertical-align: top;\n",
       "    }\n",
       "\n",
       "    .dataframe thead th {\n",
       "        text-align: right;\n",
       "    }\n",
       "</style>\n",
       "<table border=\"1\" class=\"dataframe\">\n",
       "  <thead>\n",
       "    <tr style=\"text-align: right;\">\n",
       "      <th></th>\n",
       "      <th>male</th>\n",
       "      <th>female</th>\n",
       "      <th>total</th>\n",
       "    </tr>\n",
       "  </thead>\n",
       "  <tbody>\n",
       "    <tr>\n",
       "      <th>cricket</th>\n",
       "      <td>0.24</td>\n",
       "      <td>0.15</td>\n",
       "      <td>0.39</td>\n",
       "    </tr>\n",
       "    <tr>\n",
       "      <th>football</th>\n",
       "      <td>0.20</td>\n",
       "      <td>0.05</td>\n",
       "      <td>0.25</td>\n",
       "    </tr>\n",
       "    <tr>\n",
       "      <th>others</th>\n",
       "      <td>0.10</td>\n",
       "      <td>0.26</td>\n",
       "      <td>0.36</td>\n",
       "    </tr>\n",
       "    <tr>\n",
       "      <th>total</th>\n",
       "      <td>0.54</td>\n",
       "      <td>0.46</td>\n",
       "      <td>1.00</td>\n",
       "    </tr>\n",
       "  </tbody>\n",
       "</table>\n",
       "</div>"
      ],
      "text/plain": [
       "          male  female  total\n",
       "cricket   0.24    0.15   0.39\n",
       "football  0.20    0.05   0.25\n",
       "others    0.10    0.26   0.36\n",
       "total     0.54    0.46   1.00"
      ]
     },
     "execution_count": 10,
     "metadata": {},
     "output_type": "execute_result"
    }
   ],
   "source": [
    "prob_df.show_norm_df()"
   ]
  },
  {
   "cell_type": "markdown",
   "metadata": {},
   "source": [
    "Extract information needed:\n",
    "- Give me the probability that likes cricket and is female."
   ]
  },
  {
   "cell_type": "code",
   "execution_count": 16,
   "metadata": {
    "scrolled": true
   },
   "outputs": [
    {
     "name": "stdout",
     "output_type": "stream",
     "text": [
      "joint prob for cricket and female\n"
     ]
    },
    {
     "data": {
      "text/plain": [
       "0.15"
      ]
     },
     "execution_count": 16,
     "metadata": {},
     "output_type": "execute_result"
    }
   ],
   "source": [
    "prob_df.joint_prob('cricket', 'female')"
   ]
  },
  {
   "cell_type": "markdown",
   "metadata": {},
   "source": [
    "- Prob. likes others and is male."
   ]
  },
  {
   "cell_type": "code",
   "execution_count": 17,
   "metadata": {
    "scrolled": true
   },
   "outputs": [
    {
     "name": "stdout",
     "output_type": "stream",
     "text": [
      "joint prob for others and male\n"
     ]
    },
    {
     "data": {
      "text/plain": [
       "0.1"
      ]
     },
     "execution_count": 17,
     "metadata": {},
     "output_type": "execute_result"
    }
   ],
   "source": [
    "prob_df.joint_prob('others', 'male')"
   ]
  },
  {
   "cell_type": "markdown",
   "metadata": {},
   "source": [
    "- What is the probability that I randomly select a male (marginal prob.) from the dataset?"
   ]
  },
  {
   "cell_type": "code",
   "execution_count": 18,
   "metadata": {
    "scrolled": true
   },
   "outputs": [
    {
     "name": "stdout",
     "output_type": "stream",
     "text": [
      "marginal prob. for male\n"
     ]
    },
    {
     "data": {
      "text/plain": [
       "0.54"
      ]
     },
     "execution_count": 18,
     "metadata": {},
     "output_type": "execute_result"
    }
   ],
   "source": [
    "prob_df.marginal_prob('male')"
   ]
  },
  {
   "cell_type": "markdown",
   "metadata": {},
   "source": [
    "- What is the probability that he/she likes cricket?"
   ]
  },
  {
   "cell_type": "code",
   "execution_count": 19,
   "metadata": {
    "scrolled": true
   },
   "outputs": [
    {
     "name": "stdout",
     "output_type": "stream",
     "text": [
      "marginal prob. for cricket\n"
     ]
    },
    {
     "data": {
      "text/plain": [
       "0.39"
      ]
     },
     "execution_count": 19,
     "metadata": {},
     "output_type": "execute_result"
    }
   ],
   "source": [
    "prob_df.marginal_prob('cricket', False)"
   ]
  },
  {
   "cell_type": "markdown",
   "metadata": {},
   "source": [
    "- Given that I already know that he/she likes cricket, what is the probability that he is male?"
   ]
  },
  {
   "cell_type": "code",
   "execution_count": 20,
   "metadata": {
    "scrolled": true
   },
   "outputs": [
    {
     "name": "stdout",
     "output_type": "stream",
     "text": [
      "conditional prob of cricket given male\n"
     ]
    },
    {
     "data": {
      "text/plain": [
       "0.4444444444444444"
      ]
     },
     "execution_count": 20,
     "metadata": {},
     "output_type": "execute_result"
    }
   ],
   "source": [
    "prob_df.conditional_prob('cricket', 'male')"
   ]
  },
  {
   "cell_type": "markdown",
   "metadata": {},
   "source": [
    "- Given that I already know that he is a male, what is the probability that he likes cricket?"
   ]
  },
  {
   "cell_type": "code",
   "execution_count": 21,
   "metadata": {},
   "outputs": [
    {
     "name": "stdout",
     "output_type": "stream",
     "text": [
      "conditional prob of male given cricket\n"
     ]
    },
    {
     "data": {
      "text/plain": [
       "0.6153846153846153"
      ]
     },
     "execution_count": 21,
     "metadata": {},
     "output_type": "execute_result"
    }
   ],
   "source": [
    "prob_df.conditional_prob('male', 'cricket', False)"
   ]
  },
  {
   "cell_type": "markdown",
   "metadata": {},
   "source": [
    "> **NOTE:** Conditional probabilities are not symmetrical, P(Male|Cricket) not necesarily equal to P(Cricket|Male)"
   ]
  },
  {
   "cell_type": "markdown",
   "metadata": {},
   "source": [
    "# Bayes Theorem\n",
    "\n",
    "![](bayes.png)"
   ]
  },
  {
   "cell_type": "markdown",
   "metadata": {},
   "source": [
    "In this case **Actual Spam** will be our **A** and **Detected Spam** will be our B.\n",
    "\n",
    "- P(A|B) = P(B|A) * P(A) / P(B) reads:\n",
    "    - Probability of spam given spam was detected = probability of spam detected given actual spam * the probability of actual spam / probability of detected spam"
   ]
  },
  {
   "cell_type": "markdown",
   "metadata": {},
   "source": [
    "Given values:\n",
    "- prob_spam = 0.03\n",
    "- detection_rate = 0.99\n",
    "- false_positive = 0.002"
   ]
  },
  {
   "cell_type": "code",
   "execution_count": 24,
   "metadata": {},
   "outputs": [],
   "source": [
    "class bayesDF(object):\n",
    "    def __init__(self, columns, rows):\n",
    "        \"\"\"\n",
    "        Initialize object, create a dataframe filled with zeros\n",
    "        to be used to calculate the Bayes Table.\n",
    "        \"\"\"\n",
    "        self.df = pd.DataFrame(np.zeros((len(rows), len(columns))), \n",
    "                                    columns=columns, index=rows)\n",
    "        self.rows = rows\n",
    "        self.cols = columns\n",
    "        self.bayes_df = None\n",
    "        self.flag = False\n",
    "        \n",
    "    def ret(self):\n",
    "        \"\"\"\n",
    "        Auxiliar function to catch errors.\n",
    "        \"\"\"\n",
    "        if not self.flag:\n",
    "            print('Need to populated dataframe first')\n",
    "        else:\n",
    "            return self.bayes_df\n",
    "    \n",
    "    def populate(self, positive_prob, detection_rate, fp_rate):\n",
    "        \"\"\"\n",
    "        Populate table using starting conditions and information\n",
    "        \"\"\"\n",
    "        self.bayes_df = self.df.copy()\n",
    "        self.bayes_df.loc[self.rows[-1], self.cols[1]] = positive_prob     #P(A) = Prob. of spam\n",
    "        self.bayes_df.loc[self.rows[-1], self.cols[0]] = 1 - positive_prob #P(~A) = Prob. of not spam\n",
    "\n",
    "        self.bayes_df.loc[self.rows[0], self.cols[1]] = positive_prob * detection_rate #Prob. of detecting spam if it is present\n",
    "        self.bayes_df.loc[self.rows[1], self.cols[1]] = positive_prob - self.bayes_df.loc[self.rows[0], self.cols[1]] #Prob. of not detecting spam if it is present\n",
    "\n",
    "        self.bayes_df.loc[self.rows[0], self.cols[0]] = (1 - positive_prob) * fp_rate # Prob. of detecting spam if it is not present\n",
    "        self.bayes_df.loc[self.rows[1], self.cols[0]] = (1 - positive_prob) * (1 - fp_rate) #Prob. of not detecting spam if it is not present\n",
    "\n",
    "        self.bayes_df.loc[:, self.cols[-1]] = self.bayes_df.sum(axis=1) #Get totals for P(B) and P(~B)\n",
    "        self.flag = True\n",
    "        \n",
    "    def bayes_rule(self, tl, pred):\n",
    "        print(f'P({tl}|{pred}) = P({pred}|{tl}) * P({tl}) / P({pred})')\n",
    "        return self.bayes_df.loc[pred, tl] / self.bayes_df.loc[pred, self.cols[-1]]"
   ]
  },
  {
   "cell_type": "code",
   "execution_count": 25,
   "metadata": {},
   "outputs": [
    {
     "name": "stdout",
     "output_type": "stream",
     "text": [
      "Need to populated dataframe first\n"
     ]
    }
   ],
   "source": [
    "#TL = True Label or ground truth\n",
    "\n",
    "columns= ['tl_not_spam', 'tl_spam', 'total'] #columns, ground truth    Order of negative and positive and total is important!\n",
    "rows = ['pred_spam', 'pred_not_spam', 'total'] #rows, predictions      follow the convention here\n",
    "\n",
    "bdf =  bayesDF(columns, rows)\n",
    "bdf.ret()"
   ]
  },
  {
   "cell_type": "code",
   "execution_count": 27,
   "metadata": {
    "scrolled": false
   },
   "outputs": [
    {
     "data": {
      "text/html": [
       "<div>\n",
       "<style scoped>\n",
       "    .dataframe tbody tr th:only-of-type {\n",
       "        vertical-align: middle;\n",
       "    }\n",
       "\n",
       "    .dataframe tbody tr th {\n",
       "        vertical-align: top;\n",
       "    }\n",
       "\n",
       "    .dataframe thead th {\n",
       "        text-align: right;\n",
       "    }\n",
       "</style>\n",
       "<table border=\"1\" class=\"dataframe\">\n",
       "  <thead>\n",
       "    <tr style=\"text-align: right;\">\n",
       "      <th></th>\n",
       "      <th>tl_not_spam</th>\n",
       "      <th>tl_spam</th>\n",
       "      <th>total</th>\n",
       "    </tr>\n",
       "  </thead>\n",
       "  <tbody>\n",
       "    <tr>\n",
       "      <th>pred_spam</th>\n",
       "      <td>0.00194</td>\n",
       "      <td>0.0297</td>\n",
       "      <td>0.03164</td>\n",
       "    </tr>\n",
       "    <tr>\n",
       "      <th>pred_not_spam</th>\n",
       "      <td>0.96806</td>\n",
       "      <td>0.0003</td>\n",
       "      <td>0.96836</td>\n",
       "    </tr>\n",
       "    <tr>\n",
       "      <th>total</th>\n",
       "      <td>0.97000</td>\n",
       "      <td>0.0300</td>\n",
       "      <td>1.00000</td>\n",
       "    </tr>\n",
       "  </tbody>\n",
       "</table>\n",
       "</div>"
      ],
      "text/plain": [
       "               tl_not_spam  tl_spam    total\n",
       "pred_spam          0.00194   0.0297  0.03164\n",
       "pred_not_spam      0.96806   0.0003  0.96836\n",
       "total              0.97000   0.0300  1.00000"
      ]
     },
     "execution_count": 27,
     "metadata": {},
     "output_type": "execute_result"
    }
   ],
   "source": [
    "prob_spam = 0.03\n",
    "detection_rate = 0.99\n",
    "false_positive = 0.002\n",
    "\n",
    "bdf.populate(prob_spam, detection_rate, false_positive)\n",
    "bdf.ret()"
   ]
  },
  {
   "cell_type": "code",
   "execution_count": 28,
   "metadata": {
    "scrolled": true
   },
   "outputs": [
    {
     "name": "stdout",
     "output_type": "stream",
     "text": [
      "P(tl_spam|pred_spam) = P(pred_spam|tl_spam) * P(tl_spam) / P(pred_spam)\n"
     ]
    },
    {
     "data": {
      "text/plain": [
       "0.9386852085967131"
      ]
     },
     "execution_count": 28,
     "metadata": {},
     "output_type": "execute_result"
    }
   ],
   "source": [
    "bdf.bayes_rule('tl_spam', 'pred_spam')"
   ]
  },
  {
   "cell_type": "code",
   "execution_count": 29,
   "metadata": {},
   "outputs": [
    {
     "name": "stdout",
     "output_type": "stream",
     "text": [
      "P(tl_not_spam|pred_spam) = P(pred_spam|tl_not_spam) * P(tl_not_spam) / P(pred_spam)\n"
     ]
    },
    {
     "data": {
      "text/plain": [
       "0.06131479140328699"
      ]
     },
     "execution_count": 29,
     "metadata": {},
     "output_type": "execute_result"
    }
   ],
   "source": [
    "bdf.bayes_rule('tl_not_spam', 'pred_spam')"
   ]
  },
  {
   "cell_type": "code",
   "execution_count": 30,
   "metadata": {},
   "outputs": [
    {
     "name": "stdout",
     "output_type": "stream",
     "text": [
      "P(tl_spam|pred_not_spam) = P(pred_not_spam|tl_spam) * P(tl_spam) / P(pred_not_spam)\n"
     ]
    },
    {
     "data": {
      "text/plain": [
       "0.00030980213970011327"
      ]
     },
     "execution_count": 30,
     "metadata": {},
     "output_type": "execute_result"
    }
   ],
   "source": [
    "bdf.bayes_rule('tl_spam', 'pred_not_spam')"
   ]
  },
  {
   "cell_type": "code",
   "execution_count": 31,
   "metadata": {},
   "outputs": [
    {
     "name": "stdout",
     "output_type": "stream",
     "text": [
      "P(tl_not_spam|pred_not_spam) = P(pred_not_spam|tl_not_spam) * P(tl_not_spam) / P(pred_not_spam)\n"
     ]
    },
    {
     "data": {
      "text/plain": [
       "0.9996901978602999"
      ]
     },
     "execution_count": 31,
     "metadata": {},
     "output_type": "execute_result"
    }
   ],
   "source": [
    "bdf.bayes_rule('tl_not_spam', 'pred_not_spam')"
   ]
  },
  {
   "cell_type": "markdown",
   "metadata": {},
   "source": [
    "It is very typical in this problems to be given:\n",
    "\n",
    "- The prevalence of the positive class (with that you automatically can get the negative).\n",
    "- The detection rate or recall, that is, if the positive class is present how likely is it to find it.\n",
    "- The false positive rate, that is, if the we classify something as positive when it is not.\n",
    "\n",
    "From these we can get all other parameters."
   ]
  }
 ],
 "metadata": {
  "kernelspec": {
   "display_name": "Python 3",
   "language": "python",
   "name": "python3"
  },
  "language_info": {
   "codemirror_mode": {
    "name": "ipython",
    "version": 3
   },
   "file_extension": ".py",
   "mimetype": "text/x-python",
   "name": "python",
   "nbconvert_exporter": "python",
   "pygments_lexer": "ipython3",
   "version": "3.8.3"
  }
 },
 "nbformat": 4,
 "nbformat_minor": 4
}
